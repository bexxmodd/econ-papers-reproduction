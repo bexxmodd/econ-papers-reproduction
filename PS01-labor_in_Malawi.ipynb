{
 "cells": [
  {
   "cell_type": "markdown",
   "metadata": {},
   "source": [
    "# Problem Solving 01\n",
    "_____\n",
    "## Replication of a paper published by Dr. Jessica Goldberg - \"Experimental Evidence about Labor Supply in Rural Malawi\"\n",
    "\n",
    "> #### Original paper, published by **_American Economic Journal_** in 2016 can be found **[here](https://drive.google.com/file/d/18QQqtV2gj5xQBtjcXm9OIFUcILiN7vYD/view?usp=sharing)**\n",
    "\n",
    "_______________________\n",
    "\n",
    "In this session, we work on a paper that analysis labor supply in Malawi in an experimental setting.\n",
    "\n",
    "_Abstract: I use a field experiment to estimate the wage elasticity of employment in the day labor market in rural Malawi. Once a week for 12 consecutive weeks, I make job offers for a workfare-type program to 529 adults. The daily wage varies from the tenth to the ninetieth percentile of the wage distribution, and individuals are entitled to work a maximum of one day per week. In this context (the low agricultural season), 74 percent of individuals worked at the lowest wage, and consequently the estimated labor supply elasticity is low (0.15), regardless of observable characteristics._\n",
    "\n",
    "The paper uses data collected by the author and her colleagues in Malawi. They randomly offered jobs with different wages to individuals in 10 villages for 12 consecutive weeks and recorded acceptance rates. They used data to estimate the elasticity of labor supply to wage. \n",
    "The variable of interest in this paper is acceptance rate in each village in each week and the explanatory variable is wage.\n",
    "\n",
    "The other explanatory variables may be variables that distinguish each village from the others.\n",
    "\n",
    "The main finding of the paper is that in the off-season, the majority of workers accept the job offer at the lowest wage, and the elasticity of labor is low, meaning that the main force of accepting job is probably factors beyond wage."
   ]
  },
  {
   "cell_type": "markdown",
   "metadata": {},
   "source": [
    "_loading all the neccessary tools needed for the project:_"
   ]
  },
  {
   "cell_type": "code",
   "execution_count": 1,
   "metadata": {},
   "outputs": [],
   "source": [
    "%%capture\n",
    "! pip install seaborn\n",
    "import seaborn as sns\n",
    "import matplotlib.pyplot as plt\n",
    "%matplotlib inline\n",
    "import numpy as np\n",
    "import pandas as pd\n",
    "from matplotlib.ticker import StrMethodFormatter"
   ]
  },
  {
   "cell_type": "markdown",
   "metadata": {},
   "source": [
    "## Part 1\n",
    "-----\n",
    "loading the dataset"
   ]
  },
  {
   "cell_type": "code",
   "execution_count": 2,
   "metadata": {},
   "outputs": [
    {
     "data": {
      "text/html": [
       "<div>\n",
       "<style scoped>\n",
       "    .dataframe tbody tr th:only-of-type {\n",
       "        vertical-align: middle;\n",
       "    }\n",
       "\n",
       "    .dataframe tbody tr th {\n",
       "        vertical-align: top;\n",
       "    }\n",
       "\n",
       "    .dataframe thead th {\n",
       "        text-align: right;\n",
       "    }\n",
       "</style>\n",
       "<table border=\"1\" class=\"dataframe\">\n",
       "  <thead>\n",
       "    <tr style=\"text-align: right;\">\n",
       "      <th></th>\n",
       "      <th>week</th>\n",
       "      <th>village</th>\n",
       "      <th>vil_labor</th>\n",
       "      <th>vil_hh</th>\n",
       "      <th>badshock_prev</th>\n",
       "      <th>goodshock_prev</th>\n",
       "      <th>badshock_prev_lnwage</th>\n",
       "      <th>goodshock_prev_lnwage</th>\n",
       "      <th>wage</th>\n",
       "      <th>lnwage</th>\n",
       "      <th>...</th>\n",
       "      <th>wagedum3</th>\n",
       "      <th>wagedum4</th>\n",
       "      <th>wagedum5</th>\n",
       "      <th>wagedum6</th>\n",
       "      <th>wagedum7</th>\n",
       "      <th>wagedum8</th>\n",
       "      <th>wagedum9</th>\n",
       "      <th>wagedum10</th>\n",
       "      <th>wagedum11</th>\n",
       "      <th>wagedum12</th>\n",
       "    </tr>\n",
       "  </thead>\n",
       "  <tbody>\n",
       "    <tr>\n",
       "      <td>0</td>\n",
       "      <td>1</td>\n",
       "      <td>CHIMOWA</td>\n",
       "      <td>1.000000</td>\n",
       "      <td>1.0000</td>\n",
       "      <td>NaN</td>\n",
       "      <td>NaN</td>\n",
       "      <td>NaN</td>\n",
       "      <td>NaN</td>\n",
       "      <td>100.0</td>\n",
       "      <td>4.605170</td>\n",
       "      <td>...</td>\n",
       "      <td>0</td>\n",
       "      <td>0</td>\n",
       "      <td>0</td>\n",
       "      <td>0</td>\n",
       "      <td>0</td>\n",
       "      <td>1</td>\n",
       "      <td>0</td>\n",
       "      <td>0</td>\n",
       "      <td>0</td>\n",
       "      <td>0</td>\n",
       "    </tr>\n",
       "    <tr>\n",
       "      <td>1</td>\n",
       "      <td>2</td>\n",
       "      <td>CHIMOWA</td>\n",
       "      <td>0.857143</td>\n",
       "      <td>0.7500</td>\n",
       "      <td>0.285714</td>\n",
       "      <td>0.326531</td>\n",
       "      <td>1.169813</td>\n",
       "      <td>1.336929</td>\n",
       "      <td>60.0</td>\n",
       "      <td>4.094345</td>\n",
       "      <td>...</td>\n",
       "      <td>0</td>\n",
       "      <td>1</td>\n",
       "      <td>0</td>\n",
       "      <td>0</td>\n",
       "      <td>0</td>\n",
       "      <td>0</td>\n",
       "      <td>0</td>\n",
       "      <td>0</td>\n",
       "      <td>0</td>\n",
       "      <td>0</td>\n",
       "    </tr>\n",
       "    <tr>\n",
       "      <td>2</td>\n",
       "      <td>3</td>\n",
       "      <td>CHIMOWA</td>\n",
       "      <td>0.000000</td>\n",
       "      <td>0.0000</td>\n",
       "      <td>0.448980</td>\n",
       "      <td>0.306122</td>\n",
       "      <td>2.149486</td>\n",
       "      <td>1.465559</td>\n",
       "      <td>120.0</td>\n",
       "      <td>4.787492</td>\n",
       "      <td>...</td>\n",
       "      <td>0</td>\n",
       "      <td>0</td>\n",
       "      <td>0</td>\n",
       "      <td>0</td>\n",
       "      <td>0</td>\n",
       "      <td>0</td>\n",
       "      <td>0</td>\n",
       "      <td>1</td>\n",
       "      <td>0</td>\n",
       "      <td>0</td>\n",
       "    </tr>\n",
       "    <tr>\n",
       "      <td>3</td>\n",
       "      <td>4</td>\n",
       "      <td>CHIMOWA</td>\n",
       "      <td>0.897959</td>\n",
       "      <td>0.8125</td>\n",
       "      <td>0.918367</td>\n",
       "      <td>0.183673</td>\n",
       "      <td>3.123549</td>\n",
       "      <td>0.624710</td>\n",
       "      <td>30.0</td>\n",
       "      <td>3.401197</td>\n",
       "      <td>...</td>\n",
       "      <td>0</td>\n",
       "      <td>0</td>\n",
       "      <td>0</td>\n",
       "      <td>0</td>\n",
       "      <td>0</td>\n",
       "      <td>0</td>\n",
       "      <td>0</td>\n",
       "      <td>0</td>\n",
       "      <td>0</td>\n",
       "      <td>0</td>\n",
       "    </tr>\n",
       "    <tr>\n",
       "      <td>4</td>\n",
       "      <td>5</td>\n",
       "      <td>CHIMOWA</td>\n",
       "      <td>1.000000</td>\n",
       "      <td>1.0000</td>\n",
       "      <td>0.204082</td>\n",
       "      <td>0.183673</td>\n",
       "      <td>0.959282</td>\n",
       "      <td>0.863354</td>\n",
       "      <td>110.0</td>\n",
       "      <td>4.700480</td>\n",
       "      <td>...</td>\n",
       "      <td>0</td>\n",
       "      <td>0</td>\n",
       "      <td>0</td>\n",
       "      <td>0</td>\n",
       "      <td>0</td>\n",
       "      <td>0</td>\n",
       "      <td>1</td>\n",
       "      <td>0</td>\n",
       "      <td>0</td>\n",
       "      <td>0</td>\n",
       "    </tr>\n",
       "  </tbody>\n",
       "</table>\n",
       "<p>5 rows × 29 columns</p>\n",
       "</div>"
      ],
      "text/plain": [
       "   week  village  vil_labor  vil_hh  badshock_prev  goodshock_prev  \\\n",
       "0     1  CHIMOWA   1.000000  1.0000            NaN             NaN   \n",
       "1     2  CHIMOWA   0.857143  0.7500       0.285714        0.326531   \n",
       "2     3  CHIMOWA   0.000000  0.0000       0.448980        0.306122   \n",
       "3     4  CHIMOWA   0.897959  0.8125       0.918367        0.183673   \n",
       "4     5  CHIMOWA   1.000000  1.0000       0.204082        0.183673   \n",
       "\n",
       "   badshock_prev_lnwage  goodshock_prev_lnwage   wage    lnwage  ...  \\\n",
       "0                   NaN                    NaN  100.0  4.605170  ...   \n",
       "1              1.169813               1.336929   60.0  4.094345  ...   \n",
       "2              2.149486               1.465559  120.0  4.787492  ...   \n",
       "3              3.123549               0.624710   30.0  3.401197  ...   \n",
       "4              0.959282               0.863354  110.0  4.700480  ...   \n",
       "\n",
       "   wagedum3  wagedum4  wagedum5  wagedum6  wagedum7  wagedum8  wagedum9  \\\n",
       "0         0         0         0         0         0         1         0   \n",
       "1         0         1         0         0         0         0         0   \n",
       "2         0         0         0         0         0         0         0   \n",
       "3         0         0         0         0         0         0         0   \n",
       "4         0         0         0         0         0         0         1   \n",
       "\n",
       "   wagedum10  wagedum11  wagedum12  \n",
       "0          0          0          0  \n",
       "1          0          0          0  \n",
       "2          1          0          0  \n",
       "3          0          0          0  \n",
       "4          0          0          0  \n",
       "\n",
       "[5 rows x 29 columns]"
      ]
     },
     "execution_count": 2,
     "metadata": {},
     "output_type": "execute_result"
    }
   ],
   "source": [
    "path = \"PS03.dta\"\n",
    "df = pd.read_stata(path)\n",
    "df.head(5)"
   ]
  },
  {
   "cell_type": "markdown",
   "metadata": {},
   "source": [
    "### 1.a) First, we have to know our variable of interest, acceptance rate, and the main explanatory variable, wage."
   ]
  },
  {
   "cell_type": "code",
   "execution_count": 3,
   "metadata": {},
   "outputs": [
    {
     "data": {
      "text/plain": [
       "count    120.000000\n",
       "mean       0.845476\n",
       "std        0.171205\n",
       "min        0.000000\n",
       "25%        0.809310\n",
       "50%        0.907692\n",
       "75%        0.958333\n",
       "max        1.000000\n",
       "Name: vil_labor, dtype: float64"
      ]
     },
     "execution_count": 3,
     "metadata": {},
     "output_type": "execute_result"
    }
   ],
   "source": [
    "df['vil_labor'].describe()"
   ]
  },
  {
   "cell_type": "markdown",
   "metadata": {},
   "source": [
    "By observing dependent variable <code>'vil_labor'</code> we see that the average acceptance rate among the villages was **84%**"
   ]
  },
  {
   "cell_type": "code",
   "execution_count": 4,
   "metadata": {},
   "outputs": [
    {
     "data": {
      "text/plain": [
       "count    120.000000\n",
       "mean      85.000000\n",
       "std       34.665264\n",
       "min       30.000000\n",
       "25%       57.500000\n",
       "50%       85.000000\n",
       "75%      112.500000\n",
       "max      140.000000\n",
       "Name: wage, dtype: float64"
      ]
     },
     "execution_count": 4,
     "metadata": {},
     "output_type": "execute_result"
    }
   ],
   "source": [
    "df['wage'].describe()"
   ]
  },
  {
   "cell_type": "markdown",
   "metadata": {},
   "source": [
    "By observing independent variable <code>'wage'</code> we see that the average offered wage among the villages was **85** Malawi Kwacha"
   ]
  },
  {
   "cell_type": "code",
   "execution_count": 5,
   "metadata": {},
   "outputs": [
    {
     "data": {
      "text/plain": [
       "Text(0.5, 1.0, 'Histogram for the A-Rate ')"
      ]
     },
     "execution_count": 5,
     "metadata": {},
     "output_type": "execute_result"
    },
    {
     "data": {
      "image/png": "[encoded data removed]",
      "text/plain": [
       "<Figure size 432x288 with 1 Axes>"
      ]
     },
     "metadata": {
      "needs_background": "light"
     },
     "output_type": "display_data"
    }
   ],
   "source": [
    "y = df['vil_labor']\n",
    "plt.hist(y, color='green', zorder=2, rwidth=0.95)\n",
    "plt.grid(axis='y', alpha=0.75)\n",
    "plt.grid(axis='x', alpha=0.75)\n",
    "plt.ylabel('Frequency',fontsize=12)\n",
    "plt.xlabel('Acceptance Rate',fontsize=12)\n",
    "plt.title('Histogram for the A-Rate ',fontsize=15)"
   ]
  },
  {
   "cell_type": "markdown",
   "metadata": {},
   "source": []
  },
  {
   "cell_type": "markdown",
   "metadata": {},
   "source": [
    "### 1.b) I'll Find the mean and standard deviation of acceptance rate for the 20 observations with the lowest wage, 20 observations with the highest wage."
   ]
  },
  {
   "cell_type": "code",
   "execution_count": 6,
   "metadata": {},
   "outputs": [
    {
     "data": {
      "text/html": [
       "<div>\n",
       "<style scoped>\n",
       "    .dataframe tbody tr th:only-of-type {\n",
       "        vertical-align: middle;\n",
       "    }\n",
       "\n",
       "    .dataframe tbody tr th {\n",
       "        vertical-align: top;\n",
       "    }\n",
       "\n",
       "    .dataframe thead th {\n",
       "        text-align: right;\n",
       "    }\n",
       "</style>\n",
       "<table border=\"1\" class=\"dataframe\">\n",
       "  <thead>\n",
       "    <tr style=\"text-align: right;\">\n",
       "      <th></th>\n",
       "      <th>wage</th>\n",
       "      <th>vil_labor</th>\n",
       "    </tr>\n",
       "  </thead>\n",
       "  <tbody>\n",
       "    <tr>\n",
       "      <td>count</td>\n",
       "      <td>20.000000</td>\n",
       "      <td>20.000000</td>\n",
       "    </tr>\n",
       "    <tr>\n",
       "      <td>mean</td>\n",
       "      <td>135.000000</td>\n",
       "      <td>0.936237</td>\n",
       "    </tr>\n",
       "    <tr>\n",
       "      <td>std</td>\n",
       "      <td>5.129892</td>\n",
       "      <td>0.048356</td>\n",
       "    </tr>\n",
       "    <tr>\n",
       "      <td>min</td>\n",
       "      <td>130.000000</td>\n",
       "      <td>0.836735</td>\n",
       "    </tr>\n",
       "    <tr>\n",
       "      <td>25%</td>\n",
       "      <td>130.000000</td>\n",
       "      <td>0.902071</td>\n",
       "    </tr>\n",
       "    <tr>\n",
       "      <td>50%</td>\n",
       "      <td>135.000000</td>\n",
       "      <td>0.950820</td>\n",
       "    </tr>\n",
       "    <tr>\n",
       "      <td>75%</td>\n",
       "      <td>140.000000</td>\n",
       "      <td>0.978941</td>\n",
       "    </tr>\n",
       "    <tr>\n",
       "      <td>max</td>\n",
       "      <td>140.000000</td>\n",
       "      <td>1.000000</td>\n",
       "    </tr>\n",
       "  </tbody>\n",
       "</table>\n",
       "</div>"
      ],
      "text/plain": [
       "             wage  vil_labor\n",
       "count   20.000000  20.000000\n",
       "mean   135.000000   0.936237\n",
       "std      5.129892   0.048356\n",
       "min    130.000000   0.836735\n",
       "25%    130.000000   0.902071\n",
       "50%    135.000000   0.950820\n",
       "75%    140.000000   0.978941\n",
       "max    140.000000   1.000000"
      ]
     },
     "execution_count": 6,
     "metadata": {},
     "output_type": "execute_result"
    }
   ],
   "source": [
    "df_wage_labor = df[['wage', 'vil_labor']]\n",
    "top20 = df_wage_labor.nlargest(20, ['wage', 'vil_labor'])\n",
    "top20.describe()"
   ]
  },
  {
   "cell_type": "code",
   "execution_count": 7,
   "metadata": {},
   "outputs": [
    {
     "data": {
      "text/html": [
       "<div>\n",
       "<style scoped>\n",
       "    .dataframe tbody tr th:only-of-type {\n",
       "        vertical-align: middle;\n",
       "    }\n",
       "\n",
       "    .dataframe tbody tr th {\n",
       "        vertical-align: top;\n",
       "    }\n",
       "\n",
       "    .dataframe thead th {\n",
       "        text-align: right;\n",
       "    }\n",
       "</style>\n",
       "<table border=\"1\" class=\"dataframe\">\n",
       "  <thead>\n",
       "    <tr style=\"text-align: right;\">\n",
       "      <th></th>\n",
       "      <th>wage</th>\n",
       "      <th>vil_labor</th>\n",
       "    </tr>\n",
       "  </thead>\n",
       "  <tbody>\n",
       "    <tr>\n",
       "      <td>count</td>\n",
       "      <td>20.000000</td>\n",
       "      <td>20.000000</td>\n",
       "    </tr>\n",
       "    <tr>\n",
       "      <td>mean</td>\n",
       "      <td>35.000000</td>\n",
       "      <td>0.749579</td>\n",
       "    </tr>\n",
       "    <tr>\n",
       "      <td>std</td>\n",
       "      <td>5.129892</td>\n",
       "      <td>0.166202</td>\n",
       "    </tr>\n",
       "    <tr>\n",
       "      <td>min</td>\n",
       "      <td>30.000000</td>\n",
       "      <td>0.302326</td>\n",
       "    </tr>\n",
       "    <tr>\n",
       "      <td>25%</td>\n",
       "      <td>30.000000</td>\n",
       "      <td>0.652975</td>\n",
       "    </tr>\n",
       "    <tr>\n",
       "      <td>50%</td>\n",
       "      <td>35.000000</td>\n",
       "      <td>0.794005</td>\n",
       "    </tr>\n",
       "    <tr>\n",
       "      <td>75%</td>\n",
       "      <td>40.000000</td>\n",
       "      <td>0.856280</td>\n",
       "    </tr>\n",
       "    <tr>\n",
       "      <td>max</td>\n",
       "      <td>40.000000</td>\n",
       "      <td>0.959184</td>\n",
       "    </tr>\n",
       "  </tbody>\n",
       "</table>\n",
       "</div>"
      ],
      "text/plain": [
       "            wage  vil_labor\n",
       "count  20.000000  20.000000\n",
       "mean   35.000000   0.749579\n",
       "std     5.129892   0.166202\n",
       "min    30.000000   0.302326\n",
       "25%    30.000000   0.652975\n",
       "50%    35.000000   0.794005\n",
       "75%    40.000000   0.856280\n",
       "max    40.000000   0.959184"
      ]
     },
     "execution_count": 7,
     "metadata": {},
     "output_type": "execute_result"
    }
   ],
   "source": [
    "bottom20 = df_wage_labor.nsmallest(20, ['wage', 'vil_labor'])\n",
    "bottom20.describe()"
   ]
  },
  {
   "cell_type": "markdown",
   "metadata": {},
   "source": [
    "It is a good idea to compare the acceptance rate for the bottom and upper 20 villages. Based on this observations, even that the mean wage for the top 20 is **286%** more than for the bottom *(avg. for the top 20 is 135 Kwacha; avg. for the bottom is 35 Kwacha)*, we see that there is a small gap of **18.66%** in acceptance rate between those two groups *(93.62% acceptance rate for the top and 74.96% for the bottom)*\n",
    "\n",
    "##### There is not enough evidence to assume that wages influence if residents of the village accept the job or not\n"
   ]
  },
  {
   "cell_type": "markdown",
   "metadata": {},
   "source": [
    "### 1.c.) Find the correlation coefficient between wage and acceptance rate."
   ]
  },
  {
   "cell_type": "code",
   "execution_count": 8,
   "metadata": {},
   "outputs": [
    {
     "name": "stdout",
     "output_type": "stream",
     "text": [
      "We've a WEAK POSITIVE correlation with coeficient of: 0.34560122231666063\n"
     ]
    }
   ],
   "source": [
    "x1_corr = df['wage'].corr(df['vil_labor'])\n",
    "\n",
    "if x1_corr > 0 and x1_corr < 0.5:\n",
    "    print('We\\'ve a WEAK POSITIVE correlation with coeficient of:', x1_corr)\n",
    "elif x1_corr > 0.5 and x1_corr <= 1:\n",
    "    print('We\\'ve a STRONG POSITIVE correlation with coeficient of:', x1_corr)\n",
    "elif x1_corr < 0 and x1_corr > -0.5:\n",
    "    print('We\\'ve a WEAK NEGATIVE correlation with coeficient of:', x1_corr)\n",
    "else:\n",
    "    print('We\\'ve a STRONG NEGATIVE correlation with coeficient of:', x1_corr)"
   ]
  },
  {
   "cell_type": "markdown",
   "metadata": {},
   "source": [
    "### 1.d) Let’s draw a scatter-graph to visualize the relationship between wage and job acceptance rate\n",
    "Let's see if this confirms our assumptions that despite the wage differences, people are still willing to accept the job"
   ]
  },
  {
   "cell_type": "code",
   "execution_count": 9,
   "metadata": {},
   "outputs": [
    {
     "data": {
      "image/png": "[encoded data removed]",
      "text/plain": [
       "<Figure size 432x288 with 1 Axes>"
      ]
     },
     "metadata": {
      "needs_background": "light"
     },
     "output_type": "display_data"
    }
   ],
   "source": [
    "sns.regplot(x=\"wage\", y=\"vil_labor\", data=df, color='purple')\n",
    "plt.ylabel('Acceptance Rate', fontsize=12)\n",
    "plt.xlabel('Wage', fontsize=12)\n",
    "plt.title('Scatter-Graph of A-Rate and Wage')\n",
    "plt.grid(axis='y', alpha=0.75)\n",
    "plt.grid(axis='x', alpha=0.75)"
   ]
  },
  {
   "cell_type": "markdown",
   "metadata": {},
   "source": [
    "**Yes!** graph confirms that there is a small influence of the wage offered on if villager accepted the job or not."
   ]
  },
  {
   "cell_type": "markdown",
   "metadata": {},
   "source": [
    "## Part 2:\n",
    "-----------\n",
    "### 2.a) We run a regression of wage on acceptance rate."
   ]
  },
  {
   "cell_type": "code",
   "execution_count": 10,
   "metadata": {},
   "outputs": [],
   "source": [
    "from sklearn.model_selection import train_test_split \n",
    "from sklearn.linear_model import LinearRegression\n",
    "from sklearn import metrics"
   ]
  },
  {
   "cell_type": "code",
   "execution_count": 11,
   "metadata": {},
   "outputs": [
    {
     "data": {
      "text/html": [
       "<table class=\"simpletable\">\n",
       "<caption>OLS Regression Results</caption>\n",
       "<tr>\n",
       "  <th>Dep. Variable:</th>            <td>y</td>        <th>  R-squared:         </th> <td>   0.119</td>\n",
       "</tr>\n",
       "<tr>\n",
       "  <th>Model:</th>                   <td>OLS</td>       <th>  Adj. R-squared:    </th> <td>   0.112</td>\n",
       "</tr>\n",
       "<tr>\n",
       "  <th>Method:</th>             <td>Least Squares</td>  <th>  F-statistic:       </th> <td>   16.01</td>\n",
       "</tr>\n",
       "<tr>\n",
       "  <th>Date:</th>             <td>Mon, 16 Dec 2019</td> <th>  Prob (F-statistic):</th> <td>0.000111</td>\n",
       "</tr>\n",
       "<tr>\n",
       "  <th>Time:</th>                 <td>23:38:21</td>     <th>  Log-Likelihood:    </th> <td>  49.648</td>\n",
       "</tr>\n",
       "<tr>\n",
       "  <th>No. Observations:</th>      <td>   120</td>      <th>  AIC:               </th> <td>  -95.30</td>\n",
       "</tr>\n",
       "<tr>\n",
       "  <th>Df Residuals:</th>          <td>   118</td>      <th>  BIC:               </th> <td>  -89.72</td>\n",
       "</tr>\n",
       "<tr>\n",
       "  <th>Df Model:</th>              <td>     1</td>      <th>                     </th>     <td> </td>   \n",
       "</tr>\n",
       "<tr>\n",
       "  <th>Covariance Type:</th>      <td>nonrobust</td>    <th>                     </th>     <td> </td>   \n",
       "</tr>\n",
       "</table>\n",
       "<table class=\"simpletable\">\n",
       "<tr>\n",
       "      <td></td>         <th>coef</th>     <th>std err</th>      <th>t</th>      <th>P>|t|</th>  <th>[0.025</th>    <th>0.975]</th>  \n",
       "</tr>\n",
       "<tr>\n",
       "  <th>Intercept</th> <td>    0.7004</td> <td>    0.039</td> <td>   17.894</td> <td> 0.000</td> <td>    0.623</td> <td>    0.778</td>\n",
       "</tr>\n",
       "<tr>\n",
       "  <th>x</th>         <td>    0.0017</td> <td>    0.000</td> <td>    4.001</td> <td> 0.000</td> <td>    0.001</td> <td>    0.003</td>\n",
       "</tr>\n",
       "</table>\n",
       "<table class=\"simpletable\">\n",
       "<tr>\n",
       "  <th>Omnibus:</th>       <td>83.233</td> <th>  Durbin-Watson:     </th> <td>   1.811</td> \n",
       "</tr>\n",
       "<tr>\n",
       "  <th>Prob(Omnibus):</th> <td> 0.000</td> <th>  Jarque-Bera (JB):  </th> <td> 475.521</td> \n",
       "</tr>\n",
       "<tr>\n",
       "  <th>Skew:</th>          <td>-2.436</td> <th>  Prob(JB):          </th> <td>5.52e-104</td>\n",
       "</tr>\n",
       "<tr>\n",
       "  <th>Kurtosis:</th>      <td>11.448</td> <th>  Cond. No.          </th> <td>    244.</td> \n",
       "</tr>\n",
       "</table><br/><br/>Warnings:<br/>[1] Standard Errors assume that the covariance matrix of the errors is correctly specified."
      ],
      "text/plain": [
       "<class 'statsmodels.iolib.summary.Summary'>\n",
       "\"\"\"\n",
       "                            OLS Regression Results                            \n",
       "==============================================================================\n",
       "Dep. Variable:                      y   R-squared:                       0.119\n",
       "Model:                            OLS   Adj. R-squared:                  0.112\n",
       "Method:                 Least Squares   F-statistic:                     16.01\n",
       "Date:                Mon, 16 Dec 2019   Prob (F-statistic):           0.000111\n",
       "Time:                        23:38:21   Log-Likelihood:                 49.648\n",
       "No. Observations:                 120   AIC:                            -95.30\n",
       "Df Residuals:                     118   BIC:                            -89.72\n",
       "Df Model:                           1                                         \n",
       "Covariance Type:            nonrobust                                         \n",
       "==============================================================================\n",
       "                 coef    std err          t      P>|t|      [0.025      0.975]\n",
       "------------------------------------------------------------------------------\n",
       "Intercept      0.7004      0.039     17.894      0.000       0.623       0.778\n",
       "x              0.0017      0.000      4.001      0.000       0.001       0.003\n",
       "==============================================================================\n",
       "Omnibus:                       83.233   Durbin-Watson:                   1.811\n",
       "Prob(Omnibus):                  0.000   Jarque-Bera (JB):              475.521\n",
       "Skew:                          -2.436   Prob(JB):                    5.52e-104\n",
       "Kurtosis:                      11.448   Cond. No.                         244.\n",
       "==============================================================================\n",
       "\n",
       "Warnings:\n",
       "[1] Standard Errors assume that the covariance matrix of the errors is correctly specified.\n",
       "\"\"\""
      ]
     },
     "execution_count": 11,
     "metadata": {},
     "output_type": "execute_result"
    }
   ],
   "source": [
    "import statsmodels.formula.api as smf\n",
    "\n",
    "#The coefficients for wage seems to be small. Generated a new variable that is 1000 times smaller than wage (wage/1000) and use it instead of wage\n",
    "x = df[['wage']]\n",
    "y = df['vil_labor']\n",
    "\n",
    "#running regression acceptance rate on wage\n",
    "reg = smf.ols('y ~ x', data=df).fit()\n",
    "reg.summary()"
   ]
  },
  {
   "cell_type": "markdown",
   "metadata": {},
   "source": [
    "Our explanatory <code>'wage'</code> showed to have a strong explanatory power as it's <code>p-value</code> is approx. **0** (which means that we are 99% confident it is statistically significant).\n",
    "Also, explanatory variable shows that offering of an additional 1 Kwacha increases acceptance rate by **0.0017**\n",
    "\n",
    "However, if we look that the <code>R-squared</code>, which is the measure of goodness of fit of our model, we see that our model is the explanation of the outcome only by approx. **12%**"
   ]
  },
  {
   "cell_type": "code",
   "execution_count": 12,
   "metadata": {},
   "outputs": [],
   "source": [
    "#now once again we regress acceptance rate on wages\n",
    "reg = LinearRegression()\n",
    "\n",
    "x = df[['wage']]\n",
    "y = df['vil_labor']\n",
    "\n",
    "#fitting the model\n",
    "reg = reg.fit(x, y)\n",
    "\n",
    "#creating yhat or the prediction line\n",
    "yhat = reg.predict(x)"
   ]
  },
  {
   "cell_type": "markdown",
   "metadata": {},
   "source": [
    "### 2.b) We visualize our results:"
   ]
  },
  {
   "cell_type": "code",
   "execution_count": 13,
   "metadata": {},
   "outputs": [
    {
     "data": {
      "image/png": "[encoded data removed]",
      "text/plain": [
       "<Figure size 432x288 with 1 Axes>"
      ]
     },
     "metadata": {
      "needs_background": "light"
     },
     "output_type": "display_data"
    }
   ],
   "source": [
    "plt.plot(x, yhat, color='green', label='Regression Line')\n",
    "plt.scatter(x, y, c='red', label='Actual Data')\n",
    "plt.ylabel('Acceptance Rate', fontsize=12)\n",
    "plt.xlabel('Wage', fontsize=12)\n",
    "plt.grid(axis='y', alpha=0.75)\n",
    "plt.grid(axis='x', alpha=0.75)\n",
    "plt.legend()\n",
    "plt.show()"
   ]
  },
  {
   "cell_type": "markdown",
   "metadata": {},
   "source": [
    "### 2.c) Coefficient for the wage is tiny. I will generate new variable 1000x smaller than wage and use it instead"
   ]
  },
  {
   "cell_type": "code",
   "execution_count": 14,
   "metadata": {},
   "outputs": [
    {
     "data": {
      "text/html": [
       "<table class=\"simpletable\">\n",
       "<caption>OLS Regression Results</caption>\n",
       "<tr>\n",
       "  <th>Dep. Variable:</th>            <td>y</td>        <th>  R-squared:         </th> <td>   0.119</td>\n",
       "</tr>\n",
       "<tr>\n",
       "  <th>Model:</th>                   <td>OLS</td>       <th>  Adj. R-squared:    </th> <td>   0.112</td>\n",
       "</tr>\n",
       "<tr>\n",
       "  <th>Method:</th>             <td>Least Squares</td>  <th>  F-statistic:       </th> <td>   16.01</td>\n",
       "</tr>\n",
       "<tr>\n",
       "  <th>Date:</th>             <td>Mon, 16 Dec 2019</td> <th>  Prob (F-statistic):</th> <td>0.000111</td>\n",
       "</tr>\n",
       "<tr>\n",
       "  <th>Time:</th>                 <td>23:38:21</td>     <th>  Log-Likelihood:    </th> <td>  49.648</td>\n",
       "</tr>\n",
       "<tr>\n",
       "  <th>No. Observations:</th>      <td>   120</td>      <th>  AIC:               </th> <td>  -95.30</td>\n",
       "</tr>\n",
       "<tr>\n",
       "  <th>Df Residuals:</th>          <td>   118</td>      <th>  BIC:               </th> <td>  -89.72</td>\n",
       "</tr>\n",
       "<tr>\n",
       "  <th>Df Model:</th>              <td>     1</td>      <th>                     </th>     <td> </td>   \n",
       "</tr>\n",
       "<tr>\n",
       "  <th>Covariance Type:</th>      <td>nonrobust</td>    <th>                     </th>     <td> </td>   \n",
       "</tr>\n",
       "</table>\n",
       "<table class=\"simpletable\">\n",
       "<tr>\n",
       "      <td></td>         <th>coef</th>     <th>std err</th>      <th>t</th>      <th>P>|t|</th>  <th>[0.025</th>    <th>0.975]</th>  \n",
       "</tr>\n",
       "<tr>\n",
       "  <th>Intercept</th> <td>    0.7004</td> <td>    0.039</td> <td>   17.894</td> <td> 0.000</td> <td>    0.623</td> <td>    0.778</td>\n",
       "</tr>\n",
       "<tr>\n",
       "  <th>wage1000</th>  <td>    1.7069</td> <td>    0.427</td> <td>    4.001</td> <td> 0.000</td> <td>    0.862</td> <td>    2.552</td>\n",
       "</tr>\n",
       "</table>\n",
       "<table class=\"simpletable\">\n",
       "<tr>\n",
       "  <th>Omnibus:</th>       <td>83.233</td> <th>  Durbin-Watson:     </th> <td>   1.811</td> \n",
       "</tr>\n",
       "<tr>\n",
       "  <th>Prob(Omnibus):</th> <td> 0.000</td> <th>  Jarque-Bera (JB):  </th> <td> 475.521</td> \n",
       "</tr>\n",
       "<tr>\n",
       "  <th>Skew:</th>          <td>-2.436</td> <th>  Prob(JB):          </th> <td>5.52e-104</td>\n",
       "</tr>\n",
       "<tr>\n",
       "  <th>Kurtosis:</th>      <td>11.448</td> <th>  Cond. No.          </th> <td>    29.2</td> \n",
       "</tr>\n",
       "</table><br/><br/>Warnings:<br/>[1] Standard Errors assume that the covariance matrix of the errors is correctly specified."
      ],
      "text/plain": [
       "<class 'statsmodels.iolib.summary.Summary'>\n",
       "\"\"\"\n",
       "                            OLS Regression Results                            \n",
       "==============================================================================\n",
       "Dep. Variable:                      y   R-squared:                       0.119\n",
       "Model:                            OLS   Adj. R-squared:                  0.112\n",
       "Method:                 Least Squares   F-statistic:                     16.01\n",
       "Date:                Mon, 16 Dec 2019   Prob (F-statistic):           0.000111\n",
       "Time:                        23:38:21   Log-Likelihood:                 49.648\n",
       "No. Observations:                 120   AIC:                            -95.30\n",
       "Df Residuals:                     118   BIC:                            -89.72\n",
       "Df Model:                           1                                         \n",
       "Covariance Type:            nonrobust                                         \n",
       "==============================================================================\n",
       "                 coef    std err          t      P>|t|      [0.025      0.975]\n",
       "------------------------------------------------------------------------------\n",
       "Intercept      0.7004      0.039     17.894      0.000       0.623       0.778\n",
       "wage1000       1.7069      0.427      4.001      0.000       0.862       2.552\n",
       "==============================================================================\n",
       "Omnibus:                       83.233   Durbin-Watson:                   1.811\n",
       "Prob(Omnibus):                  0.000   Jarque-Bera (JB):              475.521\n",
       "Skew:                          -2.436   Prob(JB):                    5.52e-104\n",
       "Kurtosis:                      11.448   Cond. No.                         29.2\n",
       "==============================================================================\n",
       "\n",
       "Warnings:\n",
       "[1] Standard Errors assume that the covariance matrix of the errors is correctly specified.\n",
       "\"\"\""
      ]
     },
     "execution_count": 14,
     "metadata": {},
     "output_type": "execute_result"
    }
   ],
   "source": [
    "wage1000 = df['wage'] / 1000\n",
    "\n",
    "reg = smf.ols('y ~ wage1000', data=df).fit()\n",
    "reg.summary()"
   ]
  },
  {
   "cell_type": "markdown",
   "metadata": {},
   "source": [
    "Now we see that any additional _10 Kwacha_ increases acceptance rate by **1.7%**"
   ]
  },
  {
   "cell_type": "markdown",
   "metadata": {},
   "source": [
    "### 2.d) to make sure that our model is a good model we check if sum of the residuals is equal 0."
   ]
  },
  {
   "cell_type": "code",
   "execution_count": 15,
   "metadata": {},
   "outputs": [
    {
     "name": "stdout",
     "output_type": "stream",
     "text": [
      "sum of the residuals is:\t -4.5075054799781356e-14\n",
      "average of the residuals is:\t -3.811765717879704e-16\n"
     ]
    }
   ],
   "source": [
    "print('sum of the residuals is:\\t', np.sum(reg.resid))\n",
    "print('average of the residuals is:\\t', np.mean(reg.resid))"
   ]
  },
  {
   "cell_type": "markdown",
   "metadata": {},
   "source": [
    "in both cases we see that they are very very close to 0!"
   ]
  },
  {
   "cell_type": "markdown",
   "metadata": {},
   "source": [
    "## 2.e) Now instead of 'wage' we will run regression using 'lnwage' which is interpreted as a percentage change in wage"
   ]
  },
  {
   "cell_type": "code",
   "execution_count": 16,
   "metadata": {},
   "outputs": [
    {
     "data": {
      "text/html": [
       "<table class=\"simpletable\">\n",
       "<caption>OLS Regression Results</caption>\n",
       "<tr>\n",
       "  <th>Dep. Variable:</th>            <td>y</td>        <th>  R-squared:         </th> <td>   0.116</td>\n",
       "</tr>\n",
       "<tr>\n",
       "  <th>Model:</th>                   <td>OLS</td>       <th>  Adj. R-squared:    </th> <td>   0.109</td>\n",
       "</tr>\n",
       "<tr>\n",
       "  <th>Method:</th>             <td>Least Squares</td>  <th>  F-statistic:       </th> <td>   15.49</td>\n",
       "</tr>\n",
       "<tr>\n",
       "  <th>Date:</th>             <td>Mon, 16 Dec 2019</td> <th>  Prob (F-statistic):</th> <td>0.000140</td>\n",
       "</tr>\n",
       "<tr>\n",
       "  <th>Time:</th>                 <td>23:38:21</td>     <th>  Log-Likelihood:    </th> <td>  49.418</td>\n",
       "</tr>\n",
       "<tr>\n",
       "  <th>No. Observations:</th>      <td>   120</td>      <th>  AIC:               </th> <td>  -94.84</td>\n",
       "</tr>\n",
       "<tr>\n",
       "  <th>Df Residuals:</th>          <td>   118</td>      <th>  BIC:               </th> <td>  -89.26</td>\n",
       "</tr>\n",
       "<tr>\n",
       "  <th>Df Model:</th>              <td>     1</td>      <th>                     </th>     <td> </td>   \n",
       "</tr>\n",
       "<tr>\n",
       "  <th>Covariance Type:</th>      <td>nonrobust</td>    <th>                     </th>     <td> </td>   \n",
       "</tr>\n",
       "</table>\n",
       "<table class=\"simpletable\">\n",
       "<tr>\n",
       "      <td></td>         <th>coef</th>     <th>std err</th>      <th>t</th>      <th>P>|t|</th>  <th>[0.025</th>    <th>0.975]</th>  \n",
       "</tr>\n",
       "<tr>\n",
       "  <th>Intercept</th> <td>    0.3060</td> <td>    0.138</td> <td>    2.220</td> <td> 0.028</td> <td>    0.033</td> <td>    0.579</td>\n",
       "</tr>\n",
       "<tr>\n",
       "  <th>lnwage</th>    <td>    0.1242</td> <td>    0.032</td> <td>    3.936</td> <td> 0.000</td> <td>    0.062</td> <td>    0.187</td>\n",
       "</tr>\n",
       "</table>\n",
       "<table class=\"simpletable\">\n",
       "<tr>\n",
       "  <th>Omnibus:</th>       <td>82.986</td> <th>  Durbin-Watson:     </th> <td>   1.832</td> \n",
       "</tr>\n",
       "<tr>\n",
       "  <th>Prob(Omnibus):</th> <td> 0.000</td> <th>  Jarque-Bera (JB):  </th> <td> 464.288</td> \n",
       "</tr>\n",
       "<tr>\n",
       "  <th>Skew:</th>          <td>-2.439</td> <th>  Prob(JB):          </th> <td>1.52e-101</td>\n",
       "</tr>\n",
       "<tr>\n",
       "  <th>Kurtosis:</th>      <td>11.311</td> <th>  Cond. No.          </th> <td>    42.9</td> \n",
       "</tr>\n",
       "</table><br/><br/>Warnings:<br/>[1] Standard Errors assume that the covariance matrix of the errors is correctly specified."
      ],
      "text/plain": [
       "<class 'statsmodels.iolib.summary.Summary'>\n",
       "\"\"\"\n",
       "                            OLS Regression Results                            \n",
       "==============================================================================\n",
       "Dep. Variable:                      y   R-squared:                       0.116\n",
       "Model:                            OLS   Adj. R-squared:                  0.109\n",
       "Method:                 Least Squares   F-statistic:                     15.49\n",
       "Date:                Mon, 16 Dec 2019   Prob (F-statistic):           0.000140\n",
       "Time:                        23:38:21   Log-Likelihood:                 49.418\n",
       "No. Observations:                 120   AIC:                            -94.84\n",
       "Df Residuals:                     118   BIC:                            -89.26\n",
       "Df Model:                           1                                         \n",
       "Covariance Type:            nonrobust                                         \n",
       "==============================================================================\n",
       "                 coef    std err          t      P>|t|      [0.025      0.975]\n",
       "------------------------------------------------------------------------------\n",
       "Intercept      0.3060      0.138      2.220      0.028       0.033       0.579\n",
       "lnwage         0.1242      0.032      3.936      0.000       0.062       0.187\n",
       "==============================================================================\n",
       "Omnibus:                       82.986   Durbin-Watson:                   1.832\n",
       "Prob(Omnibus):                  0.000   Jarque-Bera (JB):              464.288\n",
       "Skew:                          -2.439   Prob(JB):                    1.52e-101\n",
       "Kurtosis:                      11.311   Cond. No.                         42.9\n",
       "==============================================================================\n",
       "\n",
       "Warnings:\n",
       "[1] Standard Errors assume that the covariance matrix of the errors is correctly specified.\n",
       "\"\"\""
      ]
     },
     "execution_count": 16,
     "metadata": {},
     "output_type": "execute_result"
    }
   ],
   "source": [
    "lnwage = df['lnwage']\n",
    "\n",
    "reg = smf.ols('y ~ lnwage', data=df).fit()\n",
    "reg.summary()"
   ]
  },
  {
   "cell_type": "markdown",
   "metadata": {},
   "source": [
    "Here we see that **1%** change in the <code>wage</code> changes acceptance rate by **12.42%.**"
   ]
  },
  {
   "cell_type": "markdown",
   "metadata": {},
   "source": [
    "### 2.f) Now we just manually compute the regression which was used in the study to calculate the elasticity of the wages\n",
    "#### regression used in the model is **labor = α + β\\*ln(wage) + e**"
   ]
  },
  {
   "cell_type": "code",
   "execution_count": 2,
   "metadata": {},
   "outputs": [
    {
     "name": "stdout",
     "output_type": "stream",
     "text": [
      "Elasticity of the job acceptance is based on wage: 0.4302\n"
     ]
    }
   ],
   "source": [
    "x = 1\n",
    "labor = 0.3060 + 0.1242*x\n",
    "print('Elasticity of the job acceptance is based on wage:',labor)"
   ]
  },
  {
   "cell_type": "markdown",
   "metadata": {},
   "source": [
    "Even though I used exactly the same model with the same variables from the same dataset my elasticity came to be a little higher than found in the original paper (0.35). This can explain by a small difference in the data. In original data, it appears they got rid of the village which had a 0% acceptance rate (probably there was something happening at that time, so nobody accepted the job), while this data is present in my analysis. However, we still can canclude that findings are somewhat **inelastic**"
   ]
  },
  {
   "cell_type": "markdown",
   "metadata": {},
   "source": [
    "# Part 3:\n",
    "-----------\n",
    "### 3.a) Now in trying to reproduce the other columns of Table 4 of the paper, we would like to calculate two sets of variables called “village effects” and “week effects”. We work only on village effects. Week effects are similar. "
   ]
  },
  {
   "cell_type": "code",
   "execution_count": 18,
   "metadata": {},
   "outputs": [
    {
     "data": {
      "text/html": [
       "<table class=\"simpletable\">\n",
       "<caption>OLS Regression Results</caption>\n",
       "<tr>\n",
       "  <th>Dep. Variable:</th>            <td>y</td>        <th>  R-squared:         </th> <td>   0.202</td>\n",
       "</tr>\n",
       "<tr>\n",
       "  <th>Model:</th>                   <td>OLS</td>       <th>  Adj. R-squared:    </th> <td>   0.128</td>\n",
       "</tr>\n",
       "<tr>\n",
       "  <th>Method:</th>             <td>Least Squares</td>  <th>  F-statistic:       </th> <td>   2.752</td>\n",
       "</tr>\n",
       "<tr>\n",
       "  <th>Date:</th>             <td>Mon, 16 Dec 2019</td> <th>  Prob (F-statistic):</th>  <td>0.00461</td>\n",
       "</tr>\n",
       "<tr>\n",
       "  <th>Time:</th>                 <td>23:38:21</td>     <th>  Log-Likelihood:    </th> <td>  55.524</td>\n",
       "</tr>\n",
       "<tr>\n",
       "  <th>No. Observations:</th>      <td>   120</td>      <th>  AIC:               </th> <td>  -89.05</td>\n",
       "</tr>\n",
       "<tr>\n",
       "  <th>Df Residuals:</th>          <td>   109</td>      <th>  BIC:               </th> <td>  -58.38</td>\n",
       "</tr>\n",
       "<tr>\n",
       "  <th>Df Model:</th>              <td>    10</td>      <th>                     </th>     <td> </td>   \n",
       "</tr>\n",
       "<tr>\n",
       "  <th>Covariance Type:</th>      <td>nonrobust</td>    <th>                     </th>     <td> </td>   \n",
       "</tr>\n",
       "</table>\n",
       "<table class=\"simpletable\">\n",
       "<tr>\n",
       "                 <td></td>                   <th>coef</th>     <th>std err</th>      <th>t</th>      <th>P>|t|</th>  <th>[0.025</th>    <th>0.975]</th>  \n",
       "</tr>\n",
       "<tr>\n",
       "  <th>Intercept</th>                      <td>    0.3228</td> <td>    0.143</td> <td>    2.255</td> <td> 0.026</td> <td>    0.039</td> <td>    0.607</td>\n",
       "</tr>\n",
       "<tr>\n",
       "  <th>C(village)[T.HASHAMU]</th>          <td>   -0.1058</td> <td>    0.065</td> <td>   -1.622</td> <td> 0.108</td> <td>   -0.235</td> <td>    0.023</td>\n",
       "</tr>\n",
       "<tr>\n",
       "  <th>C(village)[T.KACHULE]</th>          <td>   -0.0631</td> <td>    0.065</td> <td>   -0.966</td> <td> 0.336</td> <td>   -0.192</td> <td>    0.066</td>\n",
       "</tr>\n",
       "<tr>\n",
       "  <th>C(village)[T.KADZINJA/KHUNGWA]</th> <td>    0.0347</td> <td>    0.065</td> <td>    0.531</td> <td> 0.596</td> <td>   -0.095</td> <td>    0.164</td>\n",
       "</tr>\n",
       "<tr>\n",
       "  <th>C(village)[T.KAFOTOKOZA]</th>       <td>    0.0257</td> <td>    0.065</td> <td>    0.394</td> <td> 0.694</td> <td>   -0.104</td> <td>    0.155</td>\n",
       "</tr>\n",
       "<tr>\n",
       "  <th>C(village)[T.KAMWENDO]</th>         <td>    0.0128</td> <td>    0.065</td> <td>    0.195</td> <td> 0.845</td> <td>   -0.117</td> <td>    0.142</td>\n",
       "</tr>\n",
       "<tr>\n",
       "  <th>C(village)[T.KUNFUNDA]</th>         <td>   -0.0855</td> <td>    0.065</td> <td>   -1.310</td> <td> 0.193</td> <td>   -0.215</td> <td>    0.044</td>\n",
       "</tr>\n",
       "<tr>\n",
       "  <th>C(village)[T.MANASE]</th>           <td>   -0.0409</td> <td>    0.065</td> <td>   -0.626</td> <td> 0.532</td> <td>   -0.170</td> <td>    0.088</td>\n",
       "</tr>\n",
       "<tr>\n",
       "  <th>C(village)[T.MSANGU/KALUTE]</th>    <td>    0.0272</td> <td>    0.065</td> <td>    0.418</td> <td> 0.677</td> <td>   -0.102</td> <td>    0.157</td>\n",
       "</tr>\n",
       "<tr>\n",
       "  <th>C(village)[T.NJONJA]</th>           <td>    0.0272</td> <td>    0.065</td> <td>    0.417</td> <td> 0.678</td> <td>   -0.102</td> <td>    0.157</td>\n",
       "</tr>\n",
       "<tr>\n",
       "  <th>lnwage</th>                         <td>    0.1242</td> <td>    0.031</td> <td>    3.980</td> <td> 0.000</td> <td>    0.062</td> <td>    0.186</td>\n",
       "</tr>\n",
       "</table>\n",
       "<table class=\"simpletable\">\n",
       "<tr>\n",
       "  <th>Omnibus:</th>       <td>94.244</td> <th>  Durbin-Watson:     </th> <td>   2.025</td> \n",
       "</tr>\n",
       "<tr>\n",
       "  <th>Prob(Omnibus):</th> <td> 0.000</td> <th>  Jarque-Bera (JB):  </th> <td> 715.205</td> \n",
       "</tr>\n",
       "<tr>\n",
       "  <th>Skew:</th>          <td>-2.719</td> <th>  Prob(JB):          </th> <td>4.96e-156</td>\n",
       "</tr>\n",
       "<tr>\n",
       "  <th>Kurtosis:</th>      <td>13.652</td> <th>  Cond. No.          </th> <td>    51.1</td> \n",
       "</tr>\n",
       "</table><br/><br/>Warnings:<br/>[1] Standard Errors assume that the covariance matrix of the errors is correctly specified."
      ],
      "text/plain": [
       "<class 'statsmodels.iolib.summary.Summary'>\n",
       "\"\"\"\n",
       "                            OLS Regression Results                            \n",
       "==============================================================================\n",
       "Dep. Variable:                      y   R-squared:                       0.202\n",
       "Model:                            OLS   Adj. R-squared:                  0.128\n",
       "Method:                 Least Squares   F-statistic:                     2.752\n",
       "Date:                Mon, 16 Dec 2019   Prob (F-statistic):            0.00461\n",
       "Time:                        23:38:21   Log-Likelihood:                 55.524\n",
       "No. Observations:                 120   AIC:                            -89.05\n",
       "Df Residuals:                     109   BIC:                            -58.38\n",
       "Df Model:                          10                                         \n",
       "Covariance Type:            nonrobust                                         \n",
       "==================================================================================================\n",
       "                                     coef    std err          t      P>|t|      [0.025      0.975]\n",
       "--------------------------------------------------------------------------------------------------\n",
       "Intercept                          0.3228      0.143      2.255      0.026       0.039       0.607\n",
       "C(village)[T.HASHAMU]             -0.1058      0.065     -1.622      0.108      -0.235       0.023\n",
       "C(village)[T.KACHULE]             -0.0631      0.065     -0.966      0.336      -0.192       0.066\n",
       "C(village)[T.KADZINJA/KHUNGWA]     0.0347      0.065      0.531      0.596      -0.095       0.164\n",
       "C(village)[T.KAFOTOKOZA]           0.0257      0.065      0.394      0.694      -0.104       0.155\n",
       "C(village)[T.KAMWENDO]             0.0128      0.065      0.195      0.845      -0.117       0.142\n",
       "C(village)[T.KUNFUNDA]            -0.0855      0.065     -1.310      0.193      -0.215       0.044\n",
       "C(village)[T.MANASE]              -0.0409      0.065     -0.626      0.532      -0.170       0.088\n",
       "C(village)[T.MSANGU/KALUTE]        0.0272      0.065      0.418      0.677      -0.102       0.157\n",
       "C(village)[T.NJONJA]               0.0272      0.065      0.417      0.678      -0.102       0.157\n",
       "lnwage                             0.1242      0.031      3.980      0.000       0.062       0.186\n",
       "==============================================================================\n",
       "Omnibus:                       94.244   Durbin-Watson:                   2.025\n",
       "Prob(Omnibus):                  0.000   Jarque-Bera (JB):              715.205\n",
       "Skew:                          -2.719   Prob(JB):                    4.96e-156\n",
       "Kurtosis:                      13.652   Cond. No.                         51.1\n",
       "==============================================================================\n",
       "\n",
       "Warnings:\n",
       "[1] Standard Errors assume that the covariance matrix of the errors is correctly specified.\n",
       "\"\"\""
      ]
     },
     "execution_count": 18,
     "metadata": {},
     "output_type": "execute_result"
    }
   ],
   "source": [
    "lnwage = df['lnwage']\n",
    "village = df['village']\n",
    "\n",
    "reg = smf.ols('y ~ lnwage + C(village)', data=df).fit()\n",
    "reg.summary()"
   ]
  },
  {
   "cell_type": "markdown",
   "metadata": {},
   "source": [
    "After controlling for individual village, we see that effect of a wage on the acceptance rate didn't change, and none of the village variables is statistically significant and the effect on acceptance rate is marginally or non-existence."
   ]
  },
  {
   "cell_type": "code",
   "execution_count": null,
   "metadata": {},
   "outputs": [],
   "source": []
  }
 ],
 "metadata": {
  "kernelspec": {
   "display_name": "Python 3",
   "language": "python",
   "name": "python3"
  },
  "language_info": {
   "codemirror_mode": {
    "name": "ipython",
    "version": 3
   },
   "file_extension": ".py",
   "mimetype": "text/x-python",
   "name": "python",
   "nbconvert_exporter": "python",
   "pygments_lexer": "ipython3",
   "version": "3.7.4"
  }
 },
 "nbformat": 4,
 "nbformat_minor": 4
}
